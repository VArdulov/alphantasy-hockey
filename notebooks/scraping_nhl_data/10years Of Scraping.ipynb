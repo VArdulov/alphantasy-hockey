{
 "cells": [
  {
   "cell_type": "markdown",
   "metadata": {},
   "source": [
    "# Collecting All of the Data\n",
    "**By: Victor Ardulov**\n",
    "\n",
    "So in `alphantasy-hockey/fantasy/scrapping` there is a module that automates a lot of what we saw in [Exploring NHL&reg; Scrapter](./Exploring_NHL_Scraper.ipynb). Importantly there is this function `scrape_game` for which the \"help\" is outlined below. The point is here I am writing some code to actually collect all of the historical data for the last 10 (2009/10 - 2019/20 seasons) and saving the game_reports in to JSON dictionaries \"locally\" my rough back-of the envolope math says that the JSON files should be approximately 100KB each means:\n",
    "\n",
    "$$ 100\\text{kB} \\times (\\frac{82 \\times31}{2}) \\times 10 \\approx 1.27 \\text{GB} $$\n",
    "\n",
    "So I've also added the `.json` extension to the `.gitignore` but the data will be stored in the top-level directory [nhl-data](../../nhl-data) organized by a subfolder for the season and then a file `game_report_****.json`. This folder can then be used and indexed by something ElasticSearch which may make it a little easier construct records. The alternative is to reorganize the game reports to be lists of player specific dictionaries, but I'm not sure so I'll probably end up consulting my resident ElasticSearch and Kibana experts."
   ]
  },
  {
   "cell_type": "code",
   "execution_count": 1,
   "metadata": {},
   "outputs": [],
   "source": [
    "import sys\n",
    "sys.path.extend([\"~/Documents/alphantasy-hockey/\"])\n",
    "import json"
   ]
  },
  {
   "cell_type": "code",
   "execution_count": 2,
   "metadata": {},
   "outputs": [],
   "source": [
    "from fantasy.scraping.scraper import scrape_game\n",
    "from dataclasses import asdict"
   ]
  },
  {
   "cell_type": "code",
   "execution_count": 3,
   "metadata": {},
   "outputs": [
    {
     "data": {
      "text/plain": [
       "\u001b[0;31mSignature:\u001b[0m \u001b[0mscrape_game\u001b[0m\u001b[0;34m(\u001b[0m\u001b[0mseasons\u001b[0m\u001b[0;34m=\u001b[0m\u001b[0;36m2020\u001b[0m\u001b[0;34m,\u001b[0m \u001b[0mgame_ids\u001b[0m\u001b[0;34m=\u001b[0m\u001b[0;34m'all'\u001b[0m\u001b[0;34m,\u001b[0m \u001b[0mverbose\u001b[0m\u001b[0;34m=\u001b[0m\u001b[0;32mFalse\u001b[0m\u001b[0;34m)\u001b[0m\u001b[0;34m\u001b[0m\u001b[0;34m\u001b[0m\u001b[0m\n",
       "\u001b[0;31mDocstring:\u001b[0m <no docstring>\n",
       "\u001b[0;31mSource:\u001b[0m   \n",
       "\u001b[0;32mdef\u001b[0m \u001b[0mscrape_game\u001b[0m\u001b[0;34m(\u001b[0m \u001b[0mseasons\u001b[0m\u001b[0;34m=\u001b[0m\u001b[0mcurrent_year\u001b[0m\u001b[0;34m,\u001b[0m \u001b[0mgame_ids\u001b[0m\u001b[0;34m=\u001b[0m\u001b[0;34m\"all\"\u001b[0m\u001b[0;34m,\u001b[0m \u001b[0mverbose\u001b[0m\u001b[0;34m=\u001b[0m\u001b[0;32mFalse\u001b[0m\u001b[0;34m)\u001b[0m\u001b[0;34m:\u001b[0m\u001b[0;34m\u001b[0m\n",
       "\u001b[0;34m\u001b[0m    \u001b[0;32mif\u001b[0m \u001b[0misinstance\u001b[0m\u001b[0;34m(\u001b[0m\u001b[0mgame_ids\u001b[0m\u001b[0;34m,\u001b[0m \u001b[0mint\u001b[0m\u001b[0;34m)\u001b[0m\u001b[0;34m:\u001b[0m\u001b[0;34m\u001b[0m\n",
       "\u001b[0;34m\u001b[0m        \u001b[0mgame_ids\u001b[0m \u001b[0;34m=\u001b[0m \u001b[0;34m[\u001b[0m\u001b[0mgame_ids\u001b[0m\u001b[0;34m]\u001b[0m\u001b[0;34m\u001b[0m\n",
       "\u001b[0;34m\u001b[0m    \u001b[0;32melif\u001b[0m \u001b[0mgame_ids\u001b[0m \u001b[0;34m==\u001b[0m \u001b[0;34m\"all\"\u001b[0m\u001b[0;34m:\u001b[0m\u001b[0;34m\u001b[0m\n",
       "\u001b[0;34m\u001b[0m        \u001b[0mgame_ids\u001b[0m \u001b[0;34m=\u001b[0m \u001b[0mlist\u001b[0m\u001b[0;34m(\u001b[0m\u001b[0mrange\u001b[0m\u001b[0;34m(\u001b[0m\u001b[0;36m1\u001b[0m\u001b[0;34m,\u001b[0m \u001b[0mmax_number_of_games_in_a_season\u001b[0m\u001b[0;34m+\u001b[0m\u001b[0;36m1\u001b[0m\u001b[0;34m)\u001b[0m\u001b[0;34m)\u001b[0m\u001b[0;34m\u001b[0m\n",
       "\u001b[0;34m\u001b[0m\u001b[0;34m\u001b[0m\n",
       "\u001b[0;34m\u001b[0m    \u001b[0;32mif\u001b[0m \u001b[0misinstance\u001b[0m\u001b[0;34m(\u001b[0m\u001b[0mseasons\u001b[0m\u001b[0;34m,\u001b[0m \u001b[0mint\u001b[0m\u001b[0;34m)\u001b[0m\u001b[0;34m:\u001b[0m\u001b[0;34m\u001b[0m\n",
       "\u001b[0;34m\u001b[0m        \u001b[0mseasons\u001b[0m \u001b[0;34m=\u001b[0m \u001b[0;34m[\u001b[0m\u001b[0mseasons\u001b[0m\u001b[0;34m]\u001b[0m\u001b[0;34m\u001b[0m\n",
       "\u001b[0;34m\u001b[0m    \u001b[0;32melif\u001b[0m \u001b[0mseasons\u001b[0m \u001b[0;34m==\u001b[0m \u001b[0;34m\"all\"\u001b[0m\u001b[0;34m:\u001b[0m\u001b[0;34m\u001b[0m\n",
       "\u001b[0;34m\u001b[0m        \u001b[0mseasons\u001b[0m \u001b[0;34m=\u001b[0m \u001b[0mlist\u001b[0m\u001b[0;34m(\u001b[0m\u001b[0mrange\u001b[0m\u001b[0;34m(\u001b[0m\u001b[0;36m2008\u001b[0m\u001b[0;34m,\u001b[0m \u001b[0mcurrent_year\u001b[0m\u001b[0;34m)\u001b[0m\u001b[0;34m)\u001b[0m\u001b[0;34m\u001b[0m\n",
       "\u001b[0;34m\u001b[0m    \u001b[0mgame_reports\u001b[0m \u001b[0;34m=\u001b[0m \u001b[0mdict\u001b[0m\u001b[0;34m(\u001b[0m\u001b[0;34m)\u001b[0m\u001b[0;34m\u001b[0m\n",
       "\u001b[0;34m\u001b[0m    \u001b[0;32mfor\u001b[0m \u001b[0mseason\u001b[0m \u001b[0;32min\u001b[0m \u001b[0mseasons\u001b[0m\u001b[0;34m:\u001b[0m\u001b[0;34m\u001b[0m\n",
       "\u001b[0;34m\u001b[0m        \u001b[0mworked\u001b[0m \u001b[0;34m=\u001b[0m \u001b[0;32mTrue\u001b[0m\u001b[0;34m\u001b[0m\n",
       "\u001b[0;34m\u001b[0m        \u001b[0mi\u001b[0m \u001b[0;34m=\u001b[0m \u001b[0;36m0\u001b[0m\u001b[0;34m\u001b[0m\n",
       "\u001b[0;34m\u001b[0m        \u001b[0mgame_reports\u001b[0m\u001b[0;34m[\u001b[0m\u001b[0mseason\u001b[0m\u001b[0;34m]\u001b[0m \u001b[0;34m=\u001b[0m \u001b[0mdict\u001b[0m\u001b[0;34m(\u001b[0m\u001b[0;34m)\u001b[0m\u001b[0;34m\u001b[0m\n",
       "\u001b[0;34m\u001b[0m        \u001b[0;32mwhile\u001b[0m \u001b[0mworked\u001b[0m \u001b[0;32mand\u001b[0m \u001b[0mi\u001b[0m \u001b[0;34m<\u001b[0m \u001b[0mlen\u001b[0m\u001b[0;34m(\u001b[0m\u001b[0mgame_ids\u001b[0m\u001b[0;34m)\u001b[0m\u001b[0;34m:\u001b[0m\u001b[0;34m\u001b[0m\n",
       "\u001b[0;34m\u001b[0m            \u001b[0mgid\u001b[0m \u001b[0;34m=\u001b[0m \u001b[0mgame_ids\u001b[0m\u001b[0;34m[\u001b[0m\u001b[0mi\u001b[0m\u001b[0;34m]\u001b[0m\u001b[0;34m\u001b[0m\n",
       "\u001b[0;34m\u001b[0m            \u001b[0mgame_report\u001b[0m \u001b[0;34m=\u001b[0m \u001b[0m_get_game_report\u001b[0m\u001b[0;34m(\u001b[0m\u001b[0mseason\u001b[0m\u001b[0;34m,\u001b[0m \u001b[0mgid\u001b[0m\u001b[0;34m)\u001b[0m\u001b[0;34m\u001b[0m\n",
       "\u001b[0;34m\u001b[0m            \u001b[0;32mif\u001b[0m \u001b[0mgame_report\u001b[0m \u001b[0;32mis\u001b[0m \u001b[0;32mnot\u001b[0m \u001b[0;32mNone\u001b[0m\u001b[0;34m:\u001b[0m\u001b[0;34m\u001b[0m\n",
       "\u001b[0;34m\u001b[0m                \u001b[0mgame_reports\u001b[0m\u001b[0;34m[\u001b[0m\u001b[0mseason\u001b[0m\u001b[0;34m]\u001b[0m\u001b[0;34m[\u001b[0m\u001b[0mgid\u001b[0m\u001b[0;34m]\u001b[0m \u001b[0;34m=\u001b[0m \u001b[0mgame_report\u001b[0m\u001b[0;34m\u001b[0m\n",
       "\u001b[0;34m\u001b[0m                \u001b[0mi\u001b[0m \u001b[0;34m+=\u001b[0m \u001b[0;36m1\u001b[0m\u001b[0;34m\u001b[0m\n",
       "\u001b[0;34m\u001b[0m                \u001b[0;32mif\u001b[0m \u001b[0mverbose\u001b[0m \u001b[0;34m>\u001b[0m \u001b[0;36m9\u001b[0m\u001b[0;34m:\u001b[0m\u001b[0;34m\u001b[0m\n",
       "\u001b[0;34m\u001b[0m                    \u001b[0;32mif\u001b[0m \u001b[0mi\u001b[0m \u001b[0;34m%\u001b[0m \u001b[0;36m10\u001b[0m \u001b[0;34m==\u001b[0m \u001b[0;36m0\u001b[0m\u001b[0;34m:\u001b[0m\u001b[0;34m\u001b[0m\n",
       "\u001b[0;34m\u001b[0m                        \u001b[0mprint\u001b[0m\u001b[0;34m(\u001b[0m\u001b[0;34mf\"processed {i} games\"\u001b[0m\u001b[0;34m)\u001b[0m\u001b[0;34m\u001b[0m\n",
       "\u001b[0;34m\u001b[0m            \u001b[0;32melse\u001b[0m\u001b[0;34m:\u001b[0m\u001b[0;34m\u001b[0m\n",
       "\u001b[0;34m\u001b[0m                \u001b[0mworked\u001b[0m \u001b[0;34m=\u001b[0m \u001b[0;32mFalse\u001b[0m\u001b[0;34m\u001b[0m\n",
       "\u001b[0;34m\u001b[0m        \u001b[0;32mif\u001b[0m \u001b[0mverbose\u001b[0m\u001b[0;34m:\u001b[0m\u001b[0;34m\u001b[0m\n",
       "\u001b[0;34m\u001b[0m            \u001b[0mprint\u001b[0m\u001b[0;34m(\u001b[0m\u001b[0;34mf\"Processed {len(game_reports[season])} games for {season} season\"\u001b[0m\u001b[0;34m)\u001b[0m\u001b[0;34m\u001b[0m\n",
       "\u001b[0;34m\u001b[0m\u001b[0;34m\u001b[0m\n",
       "\u001b[0;34m\u001b[0m    \u001b[0;32mreturn\u001b[0m \u001b[0mgame_reports\u001b[0m\u001b[0;34m\u001b[0m\u001b[0;34m\u001b[0m\u001b[0m\n",
       "\u001b[0;31mFile:\u001b[0m      ~/Documents/alphantasy-hockey/fantasy/scraping/scraper.py\n",
       "\u001b[0;31mType:\u001b[0m      function\n"
      ]
     },
     "metadata": {},
     "output_type": "display_data"
    }
   ],
   "source": [
    "scrape_game??"
   ]
  },
  {
   "cell_type": "code",
   "execution_count": 4,
   "metadata": {},
   "outputs": [],
   "source": [
    "from os import path, makedirs\n",
    "path_to_output = path.join(\"..\", \"nhl-data\")"
   ]
  },
  {
   "cell_type": "code",
   "execution_count": null,
   "metadata": {},
   "outputs": [],
   "source": []
  },
  {
   "cell_type": "code",
   "execution_count": 9,
   "metadata": {},
   "outputs": [
    {
     "name": "stdout",
     "output_type": "stream",
     "text": [
      "Processing 2009 - 2010\n",
      "Getting game reports...\n"
     ]
    },
    {
     "name": "stderr",
     "output_type": "stream",
     "text": [
      "WARNING:root:2009 Compuware NHL Premiere Series in 7 is not a date trying next one\n",
      "WARNING:root:2009 Compuware NHL Premiere Series in 8 is not a date trying next one\n",
      "WARNING:root:2009 Compuware NHL Premiere Series in 17 is not a date trying next one\n",
      "WARNING:root:2009 Compuware NHL Premiere Series in 20 is not a date trying next one\n",
      "WARNING:root:2010 Bridgestone/NHL Winter Classic in 609 is not a date trying next one\n",
      "WARNING:root:Response failed for Event Summary returning None\n",
      "WARNING:root:Response failed for Game Summary returning None\n",
      "WARNING:root:Unable to process 2009 - id: 1231, returning None\n"
     ]
    },
    {
     "name": "stdout",
     "output_type": "stream",
     "text": [
      "Processed 1230 games for 2009 season\n",
      "Game reports done; writing to file...\n",
      "Processing 2010 - 2011\n",
      "Getting game reports...\n"
     ]
    },
    {
     "name": "stderr",
     "output_type": "stream",
     "text": [
      "WARNING:root:2010 Compuware NHL Premiere Series in 3 is not a date trying next one\n",
      "WARNING:root:2010 Compuware NHL Premiere Series in 6 is not a date trying next one\n",
      "WARNING:root:2010 Compuware NHL Premiere Series in 8 is not a date trying next one\n",
      "WARNING:root:2010 Compuware NHL Premiere Series in 12 is not a date trying next one\n",
      "WARNING:root:2010 Compuware NHL Premiere Series in 22 is not a date trying next one\n",
      "WARNING:root:2010 Compuware NHL Premiere Series in 24 is not a date trying next one\n",
      "WARNING:root:2011 Bridgestone/NHL Winter Classic in 566 is not a date trying next one\n",
      "WARNING:root:2011 Tim Hortons Heritage Classic in 890 is not a date trying next one\n",
      "WARNING:root:Response failed for Event Summary returning None\n",
      "WARNING:root:Response failed for Game Summary returning None\n",
      "WARNING:root:Unable to process 2010 - id: 1231, returning None\n"
     ]
    },
    {
     "name": "stdout",
     "output_type": "stream",
     "text": [
      "Processed 1230 games for 2010 season\n",
      "Game reports done; writing to file...\n",
      "Processing 2011 - 2012\n",
      "Getting game reports...\n"
     ]
    },
    {
     "name": "stderr",
     "output_type": "stream",
     "text": [
      "WARNING:root:2011 Compuware NHL Premiere Series in 7 is not a date trying next one\n",
      "WARNING:root:2011 Compuware NHL Premiere Series in 9 is not a date trying next one\n",
      "WARNING:root:2011 Compuware NHL Premiere Series in 20 is not a date trying next one\n",
      "WARNING:root:2011 Compuware NHL Premiere Series in 22 is not a date trying next one\n",
      "WARNING:root:Game in 259 is not a date trying next one\n",
      "WARNING:root:2011 Discover NHL Thanksgiving Showdown in 313 is not a date trying next one\n",
      "WARNING:root:2012 Bridgestone NHL Winter Classic in 569 is not a date trying next one\n",
      "WARNING:root:Response failed for Event Summary returning None\n",
      "WARNING:root:Response failed for Game Summary returning None\n",
      "WARNING:root:Unable to process 2011 - id: 1231, returning None\n"
     ]
    },
    {
     "name": "stdout",
     "output_type": "stream",
     "text": [
      "Processed 1230 games for 2011 season\n",
      "Game reports done; writing to file...\n",
      "Processing 2012 - 2013\n",
      "Getting game reports...\n"
     ]
    },
    {
     "name": "stderr",
     "output_type": "stream",
     "text": [
      "WARNING:root:Response failed for Event Summary returning None\n",
      "WARNING:root:Response failed for Game Summary returning None\n",
      "WARNING:root:Unable to process 2012 - id: 0721, returning None\n"
     ]
    },
    {
     "name": "stdout",
     "output_type": "stream",
     "text": [
      "Processed 720 games for 2012 season\n",
      "Game reports done; writing to file...\n",
      "Processing 2013 - 2014\n",
      "Getting game reports...\n"
     ]
    },
    {
     "name": "stderr",
     "output_type": "stream",
     "text": [
      "WARNING:root:2014 Bridgestone NHL Winter Classic in 610 is not a date trying next one\n",
      "WARNING:root:Coors Light NHL Stadium Series in 782 is not a date trying next one\n",
      "WARNING:root:Coors Light NHL Stadium Series in 784 is not a date trying next one\n",
      "WARNING:root:Coors Light NHL Stadium Series in 806 is not a date trying next one\n",
      "WARNING:root:Coors Light NHL Stadium Series in 910 is not a date trying next one\n",
      "WARNING:root:2014 Tim Hortons Heritage Classic in 915 is not a date trying next one\n",
      "WARNING:root:Response failed for Event Summary returning None\n",
      "WARNING:root:Response failed for Game Summary returning None\n",
      "WARNING:root:Unable to process 2013 - id: 1231, returning None\n"
     ]
    },
    {
     "name": "stdout",
     "output_type": "stream",
     "text": [
      "Processed 1230 games for 2013 season\n",
      "Game reports done; writing to file...\n",
      "Processing 2014 - 2015\n",
      "Getting game reports...\n"
     ]
    },
    {
     "name": "stderr",
     "output_type": "stream",
     "text": [
      "WARNING:root:2015 Bridgestone NHL Winter Classic in 556 is not a date trying next one\n",
      "WARNING:root:Coors Light NHL Stadium Series in 883 is not a date trying next one\n",
      "WARNING:root:Response failed for Event Summary returning None\n",
      "WARNING:root:Response failed for Game Summary returning None\n",
      "WARNING:root:Unable to process 2014 - id: 1231, returning None\n"
     ]
    },
    {
     "name": "stdout",
     "output_type": "stream",
     "text": [
      "Processed 1230 games for 2014 season\n",
      "Game reports done; writing to file...\n",
      "Processing 2015 - 2016\n",
      "Getting game reports...\n"
     ]
    },
    {
     "name": "stderr",
     "output_type": "stream",
     "text": [
      "WARNING:root:2016 Bridgestone NHL Winter Classic in 565 is not a date trying next one\n",
      "WARNING:root:Coors Light NHL Stadium Series in 884 is not a date trying next one\n",
      "WARNING:root:Coors Light NHL Stadium Series in 927 is not a date trying next one\n",
      "WARNING:root:Response failed for Event Summary returning None\n",
      "WARNING:root:Response failed for Game Summary returning None\n",
      "WARNING:root:Unable to process 2015 - id: 1231, returning None\n"
     ]
    },
    {
     "name": "stdout",
     "output_type": "stream",
     "text": [
      "Processed 1230 games for 2015 season\n",
      "Game reports done; writing to file...\n",
      "Processing 2016 - 2017\n",
      "Getting game reports...\n"
     ]
    },
    {
     "name": "stderr",
     "output_type": "stream",
     "text": [
      "WARNING:root:2016 Tim Hortons NHL Heritage Classic in 77 is not a date trying next one\n",
      "WARNING:root:2017 NHL Centennial Classic in 559 is not a date trying next one\n",
      "WARNING:root:2017 Bridgestone NHL Winter Classic in 562 is not a date trying next one\n",
      "WARNING:root:2017 Coors Light NHL Stadium Series in 908 is not a date trying next one\n",
      "WARNING:root:Response failed for Event Summary returning None\n",
      "WARNING:root:Response failed for Game Summary returning None\n",
      "WARNING:root:Unable to process 2016 - id: 1231, returning None\n"
     ]
    },
    {
     "name": "stdout",
     "output_type": "stream",
     "text": [
      "Processed 1230 games for 2016 season\n",
      "Game reports done; writing to file...\n",
      "Processing 2017 - 2018\n",
      "Getting game reports...\n"
     ]
    },
    {
     "name": "stderr",
     "output_type": "stream",
     "text": [
      "WARNING:root:2017 SAP NHL Global Series in 247 is not a date trying next one\n",
      "WARNING:root:2017 SAP NHL Global Series in 252 is not a date trying next one\n",
      "WARNING:root:2017 Scotiabank NHL100 Classic in 498 is not a date trying next one\n",
      "WARNING:root:2018 Bridgestone NHL Winter Classic in 601 is not a date trying next one\n",
      "WARNING:root:Coors Light NHL Stadium Series in 1005 is not a date trying next one\n",
      "WARNING:root:Response failed for Event Summary returning None\n",
      "WARNING:root:Response failed for Game Summary returning None\n",
      "WARNING:root:Unable to process 2017 - id: 1272, returning None\n"
     ]
    },
    {
     "name": "stdout",
     "output_type": "stream",
     "text": [
      "Processed 1271 games for 2017 season\n",
      "Game reports done; writing to file...\n",
      "Processing 2018 - 2019\n",
      "Getting game reports...\n"
     ]
    },
    {
     "name": "stderr",
     "output_type": "stream",
     "text": [
      "WARNING:root:2018 NHL Global Series in 20 is not a date trying next one\n",
      "WARNING:root:2018 NHL Global Series in 180 is not a date trying next one\n",
      "WARNING:root:2018 NHL Global Series in 192 is not a date trying next one\n",
      "WARNING:root:2019 Bridgestone NHL Winter Classic in 612 is not a date trying next one\n",
      "WARNING:root:Coors Light NHL Stadium Series in 953 is not a date trying next one\n",
      "WARNING:root:Response failed for Event Summary returning None\n",
      "WARNING:root:Response failed for Game Summary returning None\n",
      "WARNING:root:Unable to process 2018 - id: 1272, returning None\n"
     ]
    },
    {
     "name": "stdout",
     "output_type": "stream",
     "text": [
      "Processed 1271 games for 2018 season\n",
      "Game reports done; writing to file...\n",
      "Processing 2019 - 2020\n",
      "Getting game reports...\n"
     ]
    },
    {
     "name": "stderr",
     "output_type": "stream",
     "text": [
      "WARNING:root:2019 NHL Global Series in 16 is not a date trying next one\n",
      "WARNING:root:2019 Tim Hortons NHL Heritage Classic in 168 is not a date trying next one\n",
      "WARNING:root:2019 NHL Global Series in 249 is not a date trying next one\n",
      "WARNING:root:2019 NHL Global Series in 256 is not a date trying next one\n",
      "WARNING:root:2020 Bridgestone NHL Winter Classic in 626 is not a date trying next one\n",
      "WARNING:root:2020 NHL Stadium Series in 902 is not a date trying next one\n",
      "WARNING:root:Response failed for Event Summary returning None\n",
      "WARNING:root:Response failed for Game Summary returning None\n",
      "WARNING:root:Unable to process 2019 - id: 1083, returning None\n"
     ]
    },
    {
     "name": "stdout",
     "output_type": "stream",
     "text": [
      "Processed 1082 games for 2019 season\n",
      "Game reports done; writing to file...\n"
     ]
    }
   ],
   "source": [
    "for season in range(2009, 2020):\n",
    "    print(f\"Processing {season} - {season+1}\")\n",
    "    if not path.isdir(path.join(path_to_output, str(season))):\n",
    "        makedirs(path.join(path_to_output, str(season)))\n",
    "        \n",
    "    print(\"Getting game reports...\")\n",
    "    game_reports = scrape_game(seasons=season, game_ids=\"all\", verbose=True)\n",
    "    print(\"Game reports done; writing to file...\")\n",
    "    for game_id in game_reports[season]:\n",
    "        json_file = \"game_report_%04d.json\" % game_id\n",
    "        with open(path.join(path_to_output, str(season), json_file), 'w') as output_file:\n",
    "            json.dump(asdict(game_reports[season][game_id]), output_file)"
   ]
  },
  {
   "cell_type": "code",
   "execution_count": 11,
   "metadata": {},
   "outputs": [],
   "source": [
    "with open(\"example.json\", \"w\") as example_json:\n",
    "    json.dump(asdict(game_reports[season][1]), example_json)"
   ]
  }
 ],
 "metadata": {
  "kernelspec": {
   "display_name": "alphantasy-hockey",
   "language": "python",
   "name": "alphantasy-hockey"
  },
  "language_info": {
   "codemirror_mode": {
    "name": "ipython",
    "version": 3
   },
   "file_extension": ".py",
   "mimetype": "text/x-python",
   "name": "python",
   "nbconvert_exporter": "python",
   "pygments_lexer": "ipython3",
   "version": "3.8.5"
  }
 },
 "nbformat": 4,
 "nbformat_minor": 4
}
